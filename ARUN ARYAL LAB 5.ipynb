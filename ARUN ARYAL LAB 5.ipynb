{
 "cells": [
  {
   "cell_type": "markdown",
   "id": "6d59fcb9",
   "metadata": {},
   "source": [
    "Part 1 – Exploratory Data Analysis and Baseline Models "
   ]
  },
  {
   "cell_type": "code",
   "execution_count": 1,
   "id": "91d04d8f",
   "metadata": {},
   "outputs": [],
   "source": [
    "# python libraries\n",
    "import pandas as pd\n",
    "import numpy as np\n",
    "import matplotlib.pyplot as plt\n",
    "%matplotlib inline \n",
    "import scipy.stats as stats\n",
    "import seaborn as sns"
   ]
  },
  {
   "cell_type": "code",
   "execution_count": 2,
   "id": "5fd2861f",
   "metadata": {},
   "outputs": [],
   "source": [
    "train = pd.read_csv(r'D:\\Downloads\\genes_train.csv')\n",
    "test = pd.read_csv(r'D:\\Downloads\\genes_test.csv')\n"
   ]
  },
  {
   "cell_type": "code",
   "execution_count": 3,
   "id": "016ee1f3",
   "metadata": {},
   "outputs": [
    {
     "data": {
      "text/html": [
       "<div>\n",
       "<style scoped>\n",
       "    .dataframe tbody tr th:only-of-type {\n",
       "        vertical-align: middle;\n",
       "    }\n",
       "\n",
       "    .dataframe tbody tr th {\n",
       "        vertical-align: top;\n",
       "    }\n",
       "\n",
       "    .dataframe thead th {\n",
       "        text-align: right;\n",
       "    }\n",
       "</style>\n",
       "<table border=\"1\" class=\"dataframe\">\n",
       "  <thead>\n",
       "    <tr style=\"text-align: right;\">\n",
       "      <th></th>\n",
       "      <th>AFFX-BioB-5_at (endogenous control)</th>\n",
       "      <th>AFFX-BioB-M_at (endogenous control)</th>\n",
       "      <th>AFFX-BioB-3_at (endogenous control)</th>\n",
       "      <th>AFFX-BioC-5_at (endogenous control)</th>\n",
       "      <th>AFFX-BioC-3_at (endogenous control)</th>\n",
       "      <th>AFFX-BioDn-5_at (endogenous control)</th>\n",
       "      <th>AFFX-BioDn-3_at (endogenous control)</th>\n",
       "      <th>AFFX-CreX-5_at (endogenous control)</th>\n",
       "      <th>AFFX-CreX-3_at (endogenous control)</th>\n",
       "      <th>AFFX-BioB-5_st (endogenous control)</th>\n",
       "      <th>...</th>\n",
       "      <th>GB DEF = Calcium/calmodulin-dependent protein kinase II delta E mRNA; partial cds</th>\n",
       "      <th>TUBULIN ALPHA-4 CHAIN</th>\n",
       "      <th>CYP4B1 Cytochrome P450; subfamily IVB; polypeptide 1</th>\n",
       "      <th>PTGER3 Prostaglandin E receptor 3 (subtype EP3) {alternative products}.2</th>\n",
       "      <th>HMG2 High-mobility group (nonhistone chromosomal) protein 2.1</th>\n",
       "      <th>RB1 Retinoblastoma 1 (including osteosarcoma).1</th>\n",
       "      <th>GB DEF = Glycophorin Sta (type A) exons 3 and 4; partial</th>\n",
       "      <th>GB DEF = mRNA (clone 1A7)</th>\n",
       "      <th>patient</th>\n",
       "      <th>cancer type</th>\n",
       "    </tr>\n",
       "  </thead>\n",
       "  <tbody>\n",
       "    <tr>\n",
       "      <th>0</th>\n",
       "      <td>-214</td>\n",
       "      <td>-153</td>\n",
       "      <td>-58</td>\n",
       "      <td>88</td>\n",
       "      <td>-295</td>\n",
       "      <td>-558</td>\n",
       "      <td>199</td>\n",
       "      <td>-176</td>\n",
       "      <td>252</td>\n",
       "      <td>206</td>\n",
       "      <td>...</td>\n",
       "      <td>-125</td>\n",
       "      <td>389</td>\n",
       "      <td>-37</td>\n",
       "      <td>793</td>\n",
       "      <td>329</td>\n",
       "      <td>36</td>\n",
       "      <td>191</td>\n",
       "      <td>-37</td>\n",
       "      <td>1</td>\n",
       "      <td>ALL</td>\n",
       "    </tr>\n",
       "    <tr>\n",
       "      <th>1</th>\n",
       "      <td>-139</td>\n",
       "      <td>-73</td>\n",
       "      <td>-1</td>\n",
       "      <td>283</td>\n",
       "      <td>-264</td>\n",
       "      <td>-400</td>\n",
       "      <td>-330</td>\n",
       "      <td>-168</td>\n",
       "      <td>101</td>\n",
       "      <td>74</td>\n",
       "      <td>...</td>\n",
       "      <td>-36</td>\n",
       "      <td>442</td>\n",
       "      <td>-17</td>\n",
       "      <td>782</td>\n",
       "      <td>295</td>\n",
       "      <td>11</td>\n",
       "      <td>76</td>\n",
       "      <td>-14</td>\n",
       "      <td>2</td>\n",
       "      <td>ALL</td>\n",
       "    </tr>\n",
       "    <tr>\n",
       "      <th>2</th>\n",
       "      <td>-76</td>\n",
       "      <td>-49</td>\n",
       "      <td>-307</td>\n",
       "      <td>309</td>\n",
       "      <td>-376</td>\n",
       "      <td>-650</td>\n",
       "      <td>33</td>\n",
       "      <td>-367</td>\n",
       "      <td>206</td>\n",
       "      <td>-215</td>\n",
       "      <td>...</td>\n",
       "      <td>33</td>\n",
       "      <td>168</td>\n",
       "      <td>52</td>\n",
       "      <td>1138</td>\n",
       "      <td>777</td>\n",
       "      <td>41</td>\n",
       "      <td>228</td>\n",
       "      <td>-41</td>\n",
       "      <td>3</td>\n",
       "      <td>ALL</td>\n",
       "    </tr>\n",
       "    <tr>\n",
       "      <th>3</th>\n",
       "      <td>-135</td>\n",
       "      <td>-114</td>\n",
       "      <td>265</td>\n",
       "      <td>12</td>\n",
       "      <td>-419</td>\n",
       "      <td>-585</td>\n",
       "      <td>158</td>\n",
       "      <td>-253</td>\n",
       "      <td>49</td>\n",
       "      <td>31</td>\n",
       "      <td>...</td>\n",
       "      <td>218</td>\n",
       "      <td>174</td>\n",
       "      <td>-110</td>\n",
       "      <td>627</td>\n",
       "      <td>170</td>\n",
       "      <td>-50</td>\n",
       "      <td>126</td>\n",
       "      <td>-91</td>\n",
       "      <td>4</td>\n",
       "      <td>ALL</td>\n",
       "    </tr>\n",
       "    <tr>\n",
       "      <th>4</th>\n",
       "      <td>-106</td>\n",
       "      <td>-125</td>\n",
       "      <td>-76</td>\n",
       "      <td>168</td>\n",
       "      <td>-230</td>\n",
       "      <td>-284</td>\n",
       "      <td>4</td>\n",
       "      <td>-122</td>\n",
       "      <td>70</td>\n",
       "      <td>252</td>\n",
       "      <td>...</td>\n",
       "      <td>57</td>\n",
       "      <td>504</td>\n",
       "      <td>-26</td>\n",
       "      <td>250</td>\n",
       "      <td>314</td>\n",
       "      <td>14</td>\n",
       "      <td>56</td>\n",
       "      <td>-25</td>\n",
       "      <td>5</td>\n",
       "      <td>ALL</td>\n",
       "    </tr>\n",
       "  </tbody>\n",
       "</table>\n",
       "<p>5 rows × 7131 columns</p>\n",
       "</div>"
      ],
      "text/plain": [
       "   AFFX-BioB-5_at (endogenous control)  AFFX-BioB-M_at (endogenous control)  \\\n",
       "0                                 -214                                 -153   \n",
       "1                                 -139                                  -73   \n",
       "2                                  -76                                  -49   \n",
       "3                                 -135                                 -114   \n",
       "4                                 -106                                 -125   \n",
       "\n",
       "   AFFX-BioB-3_at (endogenous control)  AFFX-BioC-5_at (endogenous control)  \\\n",
       "0                                  -58                                   88   \n",
       "1                                   -1                                  283   \n",
       "2                                 -307                                  309   \n",
       "3                                  265                                   12   \n",
       "4                                  -76                                  168   \n",
       "\n",
       "   AFFX-BioC-3_at (endogenous control)  AFFX-BioDn-5_at (endogenous control)  \\\n",
       "0                                 -295                                  -558   \n",
       "1                                 -264                                  -400   \n",
       "2                                 -376                                  -650   \n",
       "3                                 -419                                  -585   \n",
       "4                                 -230                                  -284   \n",
       "\n",
       "   AFFX-BioDn-3_at (endogenous control)  AFFX-CreX-5_at (endogenous control)  \\\n",
       "0                                   199                                 -176   \n",
       "1                                  -330                                 -168   \n",
       "2                                    33                                 -367   \n",
       "3                                   158                                 -253   \n",
       "4                                     4                                 -122   \n",
       "\n",
       "   AFFX-CreX-3_at (endogenous control)  AFFX-BioB-5_st (endogenous control)  \\\n",
       "0                                  252                                  206   \n",
       "1                                  101                                   74   \n",
       "2                                  206                                 -215   \n",
       "3                                   49                                   31   \n",
       "4                                   70                                  252   \n",
       "\n",
       "   ...  \\\n",
       "0  ...   \n",
       "1  ...   \n",
       "2  ...   \n",
       "3  ...   \n",
       "4  ...   \n",
       "\n",
       "   GB DEF = Calcium/calmodulin-dependent protein kinase II delta E mRNA; partial cds  \\\n",
       "0                                               -125                                   \n",
       "1                                                -36                                   \n",
       "2                                                 33                                   \n",
       "3                                                218                                   \n",
       "4                                                 57                                   \n",
       "\n",
       "   TUBULIN ALPHA-4 CHAIN  \\\n",
       "0                    389   \n",
       "1                    442   \n",
       "2                    168   \n",
       "3                    174   \n",
       "4                    504   \n",
       "\n",
       "   CYP4B1 Cytochrome P450; subfamily IVB; polypeptide 1  \\\n",
       "0                                                -37      \n",
       "1                                                -17      \n",
       "2                                                 52      \n",
       "3                                               -110      \n",
       "4                                                -26      \n",
       "\n",
       "   PTGER3 Prostaglandin E receptor 3 (subtype EP3) {alternative products}.2  \\\n",
       "0                                                793                          \n",
       "1                                                782                          \n",
       "2                                               1138                          \n",
       "3                                                627                          \n",
       "4                                                250                          \n",
       "\n",
       "   HMG2 High-mobility group (nonhistone chromosomal) protein 2.1  \\\n",
       "0                                                329               \n",
       "1                                                295               \n",
       "2                                                777               \n",
       "3                                                170               \n",
       "4                                                314               \n",
       "\n",
       "   RB1 Retinoblastoma 1 (including osteosarcoma).1  \\\n",
       "0                                               36   \n",
       "1                                               11   \n",
       "2                                               41   \n",
       "3                                              -50   \n",
       "4                                               14   \n",
       "\n",
       "   GB DEF = Glycophorin Sta (type A) exons 3 and 4; partial  \\\n",
       "0                                                191          \n",
       "1                                                 76          \n",
       "2                                                228          \n",
       "3                                                126          \n",
       "4                                                 56          \n",
       "\n",
       "   GB DEF = mRNA (clone 1A7)  patient  cancer type  \n",
       "0                        -37        1          ALL  \n",
       "1                        -14        2          ALL  \n",
       "2                        -41        3          ALL  \n",
       "3                        -91        4          ALL  \n",
       "4                        -25        5          ALL  \n",
       "\n",
       "[5 rows x 7131 columns]"
      ]
     },
     "execution_count": 3,
     "metadata": {},
     "output_type": "execute_result"
    }
   ],
   "source": [
    "train.head()"
   ]
  },
  {
   "cell_type": "code",
   "execution_count": 87,
   "id": "b34bbcb3",
   "metadata": {},
   "outputs": [
    {
     "data": {
      "text/plain": [
       "(40, 7131)"
      ]
     },
     "execution_count": 87,
     "metadata": {},
     "output_type": "execute_result"
    }
   ],
   "source": [
    "train.shape"
   ]
  },
  {
   "cell_type": "markdown",
   "id": "e7e950c4",
   "metadata": {},
   "source": [
    "The training set has just 40 measurements and 7131 features. It is an unbalanced data set. "
   ]
  },
  {
   "cell_type": "code",
   "execution_count": 126,
   "id": "6bd6fd4c",
   "metadata": {},
   "outputs": [
    {
     "data": {
      "text/plain": [
       "ALL    29\n",
       "AML    11\n",
       "Name: cancer type, dtype: int64"
      ]
     },
     "execution_count": 126,
     "metadata": {},
     "output_type": "execute_result"
    }
   ],
   "source": [
    "train['cancer type'].value_counts()"
   ]
  },
  {
   "cell_type": "markdown",
   "id": "6c5c7fc5",
   "metadata": {},
   "source": [
    "The number of patients with ALL are 29 and and the patients with AML are 11. "
   ]
  },
  {
   "cell_type": "code",
   "execution_count": 89,
   "id": "23d80d1f",
   "metadata": {},
   "outputs": [
    {
     "name": "stderr",
     "output_type": "stream",
     "text": [
      "C:\\Users\\user\\anaconda3\\lib\\site-packages\\seaborn\\_decorators.py:36: FutureWarning: Pass the following variable as a keyword arg: x. From version 0.12, the only valid positional argument will be `data`, and passing other arguments without an explicit keyword will result in an error or misinterpretation.\n",
      "  warnings.warn(\n"
     ]
    },
    {
     "data": {
      "text/plain": [
       "<AxesSubplot:xlabel='cancer type', ylabel='count'>"
      ]
     },
     "execution_count": 89,
     "metadata": {},
     "output_type": "execute_result"
    },
    {
     "data": {
      "image/png": "[encoded data removed]",
      "text/plain": [
       "<Figure size 432x288 with 1 Axes>"
      ]
     },
     "metadata": {
      "needs_background": "light"
     },
     "output_type": "display_data"
    }
   ],
   "source": [
    "sns.countplot(train['cancer type'])"
   ]
  },
  {
   "cell_type": "markdown",
   "id": "bb09c72c",
   "metadata": {},
   "source": [
    "The output seems unbalanced because there are lot more patients with ALL compared to AML patients. "
   ]
  },
  {
   "cell_type": "code",
   "execution_count": null,
   "id": "dd88f70c",
   "metadata": {},
   "outputs": [],
   "source": [
    "train.max(axis = 1)"
   ]
  },
  {
   "cell_type": "code",
   "execution_count": null,
   "id": "9eb3569a",
   "metadata": {},
   "outputs": [],
   "source": [
    "train.min(axis = 1)"
   ]
  },
  {
   "cell_type": "code",
   "execution_count": null,
   "id": "e9766cfd",
   "metadata": {},
   "outputs": [],
   "source": [
    "train.mean(axis = 1)"
   ]
  },
  {
   "cell_type": "markdown",
   "id": "122cd4fb",
   "metadata": {},
   "source": [
    "The maximum in this dataset seem to be around 30,000 to 40,000 while the minumun is around negative 20,000. And, the mean is around 500-700. These metrics are quite far apart from each other, suggesting we need to scale our dataset. "
   ]
  },
  {
   "cell_type": "code",
   "execution_count": 4,
   "id": "060dee03",
   "metadata": {},
   "outputs": [],
   "source": [
    "X_train = train.drop(['patient','cancer type'], axis = 1)\n",
    "y_train = train['cancer type']\n",
    "\n",
    "X_test = test.drop(['patient','cancer type'], axis = 1)\n",
    "y_test = test['cancer type']"
   ]
  },
  {
   "cell_type": "markdown",
   "id": "6dc1dc4a",
   "metadata": {},
   "source": [
    " I dropped 2 columns (patient, cancer type) for X and my y output was cancer type. "
   ]
  },
  {
   "cell_type": "code",
   "execution_count": 5,
   "id": "63437606",
   "metadata": {},
   "outputs": [],
   "source": [
    "from sklearn.preprocessing import StandardScaler\n",
    "scaler = StandardScaler()\n",
    "X_train_scaled = scaler.fit_transform(X_train)\n",
    "X_test_scaled = scaler.fit_transform(X_test)"
   ]
  },
  {
   "cell_type": "code",
   "execution_count": 6,
   "id": "75bf2e5b",
   "metadata": {},
   "outputs": [],
   "source": [
    "from sklearn.linear_model import LogisticRegression\n",
    "model = LogisticRegression()\n",
    "model.fit(X_train_scaled, y_train)\n",
    "y_pred = model.predict(X_test_scaled)"
   ]
  },
  {
   "cell_type": "code",
   "execution_count": 7,
   "id": "e8b03721",
   "metadata": {},
   "outputs": [
    {
     "name": "stdout",
     "output_type": "stream",
     "text": [
      "0.75\n"
     ]
    }
   ],
   "source": [
    "from sklearn import metrics\n",
    "print(metrics.accuracy_score(y_test, y_pred))"
   ]
  },
  {
   "cell_type": "markdown",
   "id": "bf574cb0",
   "metadata": {},
   "source": [
    "The accuracy is 0.75"
   ]
  },
  {
   "cell_type": "code",
   "execution_count": 8,
   "id": "22f71e8b",
   "metadata": {},
   "outputs": [
    {
     "name": "stdout",
     "output_type": "stream",
     "text": [
      "[[18  0]\n",
      " [ 8  6]]\n"
     ]
    }
   ],
   "source": [
    "cm = metrics.confusion_matrix(y_test,y_pred)\n",
    "print(cm)"
   ]
  },
  {
   "cell_type": "code",
   "execution_count": 9,
   "id": "c7f01bda",
   "metadata": {},
   "outputs": [],
   "source": [
    "from sklearn.naive_bayes import GaussianNB\n",
    "\n",
    "model = GaussianNB()\n",
    "model.fit(X_train_scaled,y_train)\n",
    "y_pred = model.predict(X_test_scaled)"
   ]
  },
  {
   "cell_type": "code",
   "execution_count": 10,
   "id": "06f2cab6",
   "metadata": {},
   "outputs": [
    {
     "name": "stdout",
     "output_type": "stream",
     "text": [
      "0.78125\n"
     ]
    }
   ],
   "source": [
    "print(metrics.accuracy_score(y_test, y_pred))"
   ]
  },
  {
   "cell_type": "markdown",
   "id": "9f9b7df9",
   "metadata": {},
   "source": [
    "The accuracy score of the model is 0.78125"
   ]
  },
  {
   "cell_type": "code",
   "execution_count": 11,
   "id": "ca05e9bd",
   "metadata": {},
   "outputs": [
    {
     "name": "stdout",
     "output_type": "stream",
     "text": [
      "[[18  0]\n",
      " [ 7  7]]\n"
     ]
    }
   ],
   "source": [
    "cm = metrics.confusion_matrix(y_test,y_pred)\n",
    "print(cm)"
   ]
  },
  {
   "cell_type": "markdown",
   "id": "01fdac4e",
   "metadata": {},
   "source": [
    "Looking at the confusion matrix, the model is mis-classifying 7 AML as ALL. This might be because the data is being scaled differently in training and test set. "
   ]
  },
  {
   "cell_type": "code",
   "execution_count": 12,
   "id": "36556d7f",
   "metadata": {},
   "outputs": [],
   "source": [
    "X_train_scaled_manual = (X_train - X_train.mean())/X_train.std()\n",
    "X_test_scaled_manual = (X_test - X_train.mean())/X_train.std()"
   ]
  },
  {
   "cell_type": "code",
   "execution_count": 13,
   "id": "208b7e99",
   "metadata": {},
   "outputs": [
    {
     "name": "stdout",
     "output_type": "stream",
     "text": [
      "0.8125\n",
      "[[18  0]\n",
      " [ 6  8]]\n"
     ]
    }
   ],
   "source": [
    "model = LogisticRegression()\n",
    "model.fit(X_train_scaled_manual, y_train)\n",
    "y_pred = model.predict(X_test_scaled_manual)\n",
    "print(metrics.accuracy_score(y_test, y_pred))\n",
    "\n",
    "cm = metrics.confusion_matrix(y_test,y_pred)\n",
    "print(cm)"
   ]
  },
  {
   "cell_type": "code",
   "execution_count": 14,
   "id": "37e5b92c",
   "metadata": {},
   "outputs": [
    {
     "name": "stdout",
     "output_type": "stream",
     "text": [
      "0.90625\n",
      "[[16  2]\n",
      " [ 1 13]]\n"
     ]
    }
   ],
   "source": [
    "model = GaussianNB()\n",
    "model.fit(X_train_scaled_manual, y_train)\n",
    "y_pred = model.predict(X_test_scaled_manual)\n",
    "print(metrics.accuracy_score(y_test, y_pred))\n",
    "\n",
    "cm = metrics.confusion_matrix(y_test,y_pred)\n",
    "print(cm)"
   ]
  },
  {
   "cell_type": "markdown",
   "id": "86dc0161",
   "metadata": {},
   "source": [
    "The manual scaling of data increased the performance from 0.78125 to 0.90625 using gaussian. It also increased accuracy pf logistic model from 0.75 to 0.8125. This is because we used the mean and standard deviation of training data to scale the testing data. "
   ]
  },
  {
   "cell_type": "markdown",
   "id": "2a4acbf6",
   "metadata": {},
   "source": [
    "Part 2 – Feature Reduction Using Principal Component Analysis "
   ]
  },
  {
   "cell_type": "code",
   "execution_count": 15,
   "id": "558d47d3",
   "metadata": {},
   "outputs": [],
   "source": [
    "from sklearn.decomposition import PCA"
   ]
  },
  {
   "cell_type": "code",
   "execution_count": 16,
   "id": "9dddfcbc",
   "metadata": {},
   "outputs": [],
   "source": [
    "pca = PCA(n_components = 30).fit(X_train_scaled_manual)"
   ]
  },
  {
   "cell_type": "code",
   "execution_count": 17,
   "id": "f84bd691",
   "metadata": {},
   "outputs": [
    {
     "name": "stdout",
     "output_type": "stream",
     "text": [
      "[0.14160178 0.25887229 0.32470765 0.37114269 0.41593652 0.45377108\n",
      " 0.49028899 0.52256446 0.55262452 0.57871474 0.60331123 0.62601503\n",
      " 0.64798886 0.66892235 0.68894065 0.70786795 0.72580368 0.74303738\n",
      " 0.75991715 0.77579443 0.79135625 0.80636007 0.82059574 0.83464022\n",
      " 0.84827473 0.86159723 0.87466785 0.88744908 0.89998391 0.91215863]\n"
     ]
    }
   ],
   "source": [
    "print(pca.explained_variance_ratio_.cumsum())"
   ]
  },
  {
   "cell_type": "markdown",
   "id": "d4f7a263",
   "metadata": {},
   "source": [
    "It seems like I need 30 principal components to explain at least 90% variance in data."
   ]
  },
  {
   "cell_type": "code",
   "execution_count": 18,
   "id": "bb747340",
   "metadata": {},
   "outputs": [],
   "source": [
    "X_train_scaled_pca = pca.transform(X_train_scaled_manual)\n",
    "X_test_scaled_pca = pca.transform(X_test_scaled_manual)"
   ]
  },
  {
   "cell_type": "code",
   "execution_count": 19,
   "id": "58e88072",
   "metadata": {},
   "outputs": [
    {
     "name": "stdout",
     "output_type": "stream",
     "text": [
      "0.78125\n",
      "[[18  0]\n",
      " [ 7  7]]\n"
     ]
    }
   ],
   "source": [
    "model = LogisticRegression()\n",
    "model.fit(X_train_scaled_pca, y_train)\n",
    "y_pred = model.predict(X_test_scaled_pca)\n",
    "print(metrics.accuracy_score(y_test, y_pred))\n",
    "\n",
    "cm = metrics.confusion_matrix(y_test,y_pred)\n",
    "print(cm)"
   ]
  },
  {
   "cell_type": "code",
   "execution_count": 20,
   "id": "6cc86dc8",
   "metadata": {},
   "outputs": [
    {
     "name": "stdout",
     "output_type": "stream",
     "text": [
      "0.6875\n",
      "[[18  0]\n",
      " [10  4]]\n"
     ]
    }
   ],
   "source": [
    "model = GaussianNB()\n",
    "model.fit(X_train_scaled_pca, y_train)\n",
    "y_pred = model.predict(X_test_scaled_pca)\n",
    "print(metrics.accuracy_score(y_test, y_pred))\n",
    "\n",
    "cm = metrics.confusion_matrix(y_test,y_pred)\n",
    "print(cm)"
   ]
  },
  {
   "cell_type": "markdown",
   "id": "a6ae20a2",
   "metadata": {},
   "source": [
    "The accuracy of the PCA model decreased compared to Model in Part 1 when using Logistic Regression (0.8125 to 0.78125)"
   ]
  },
  {
   "cell_type": "markdown",
   "id": "09ac5ed4",
   "metadata": {},
   "source": [
    "The accuracy of the PCA model actually decreased using Naive Bayes (0.90625 to 0.6875) compared to Model in Part 1 "
   ]
  },
  {
   "cell_type": "markdown",
   "id": "ee661466",
   "metadata": {},
   "source": [
    "No, these models aren't generalizable to new patients because they will perform poorly in new data due to their low accuracy score.  "
   ]
  },
  {
   "cell_type": "markdown",
   "id": "cdf3abc7",
   "metadata": {},
   "source": [
    "PCA didn't seem like an appropriate method to apply here because we are losing at least 10% of variance in already small dataset."
   ]
  },
  {
   "cell_type": "markdown",
   "id": "db1e64c9",
   "metadata": {},
   "source": [
    "Part 3 – Class Balancing"
   ]
  },
  {
   "cell_type": "code",
   "execution_count": 21,
   "id": "2cf42e61",
   "metadata": {},
   "outputs": [],
   "source": [
    "from imblearn.over_sampling import SMOTE"
   ]
  },
  {
   "cell_type": "code",
   "execution_count": 22,
   "id": "c2d71063",
   "metadata": {},
   "outputs": [],
   "source": [
    "smote = SMOTE()\n",
    "X_train_bal, y_train_bal = smote.fit_resample(X_train_scaled_manual, y_train)\n",
    "X_test_bal, y_test_bal = smote.fit_resample(X_test_scaled_manual, y_test) "
   ]
  },
  {
   "cell_type": "markdown",
   "id": "414c1005",
   "metadata": {},
   "source": [
    "Y_training dataset has both ALL and AML outputs set to 29 measurements. "
   ]
  },
  {
   "cell_type": "markdown",
   "id": "f44214c8",
   "metadata": {},
   "source": [
    "Y_test dataset has both ALL and AML outputs set to 18 measurements."
   ]
  },
  {
   "cell_type": "code",
   "execution_count": 23,
   "id": "a30c5ba1",
   "metadata": {},
   "outputs": [
    {
     "name": "stdout",
     "output_type": "stream",
     "text": [
      "0.8333333333333334\n",
      "[[18  0]\n",
      " [ 6 12]]\n"
     ]
    }
   ],
   "source": [
    "model = LogisticRegression()\n",
    "model.fit(X_train_bal, y_train_bal)\n",
    "y_pred = model.predict(X_test_bal)\n",
    "print(metrics.accuracy_score(y_test_bal, y_pred))\n",
    "\n",
    "cm = metrics.confusion_matrix(y_test_bal,y_pred)\n",
    "print(cm)"
   ]
  },
  {
   "cell_type": "markdown",
   "id": "a41f5de1",
   "metadata": {},
   "source": [
    "The accuracy of Logistic Regression model is 0.833"
   ]
  },
  {
   "cell_type": "code",
   "execution_count": 24,
   "id": "21b196ea",
   "metadata": {},
   "outputs": [
    {
     "name": "stdout",
     "output_type": "stream",
     "text": [
      "0.8611111111111112\n",
      "[[16  2]\n",
      " [ 3 15]]\n"
     ]
    }
   ],
   "source": [
    "model = GaussianNB()\n",
    "model.fit(X_train_bal, y_train_bal)\n",
    "y_pred = model.predict(X_test_bal)\n",
    "print(metrics.accuracy_score(y_test_bal, y_pred))\n",
    "\n",
    "cm = metrics.confusion_matrix(y_test_bal,y_pred)\n",
    "print(cm)"
   ]
  },
  {
   "cell_type": "markdown",
   "id": "15b626ca",
   "metadata": {},
   "source": [
    "The accuracy of Naive Bayes model is 0.8611"
   ]
  },
  {
   "cell_type": "markdown",
   "id": "f3a30b93",
   "metadata": {},
   "source": [
    "Naive bayes model's accuracy decreased compared to Part 1, while Logistic Regression model's accuracy increased compared to Part 1 while using SMOTE."
   ]
  },
  {
   "cell_type": "markdown",
   "id": "a90d3451",
   "metadata": {},
   "source": [
    "Part 4 – Summarizing"
   ]
  },
  {
   "cell_type": "markdown",
   "id": "49c5a078",
   "metadata": {},
   "source": [
    "If I were to build a model out of this data, I would definitely try and collect a lot of datasets first from new patients. Then, I would use feature engineering to improve the accuracy. "
   ]
  },
  {
   "cell_type": "markdown",
   "id": "d9a1e183",
   "metadata": {},
   "source": [
    "Naive Bayes model with manual scaling seems to give the highest accuracy of prediction in this dataset. However, in Logistic Regression, I would also use SMOTE to improve the accuracy. But in either case, I wouldn't use PCA. \n",
    "\n"
   ]
  },
  {
   "cell_type": "code",
   "execution_count": null,
   "id": "66087f39",
   "metadata": {},
   "outputs": [],
   "source": []
  }
 ],
 "metadata": {
  "kernelspec": {
   "display_name": "Python 3",
   "language": "python",
   "name": "python3"
  },
  "language_info": {
   "codemirror_mode": {
    "name": "ipython",
    "version": 3
   },
   "file_extension": ".py",
   "mimetype": "text/x-python",
   "name": "python",
   "nbconvert_exporter": "python",
   "pygments_lexer": "ipython3",
   "version": "3.8.8"
  }
 },
 "nbformat": 4,
 "nbformat_minor": 5
}
